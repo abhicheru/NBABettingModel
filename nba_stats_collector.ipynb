{
 "cells": [
  {
   "cell_type": "code",
   "execution_count": 797,
   "metadata": {},
   "outputs": [],
   "source": [
    "#Import packages\n",
    "from selenium import webdriver\n",
    "import pandas as pd\n",
    "import csv"
   ]
  },
  {
   "cell_type": "code",
   "execution_count": 798,
   "metadata": {},
   "outputs": [],
   "source": [
    "#Create CSV\n",
    "outfile = open(\"nba_stats_2020_2021.csv\",\"w\",newline='')\n",
    "writer = csv.writer(outfile)"
   ]
  },
  {
   "cell_type": "code",
   "execution_count": 799,
   "metadata": {},
   "outputs": [],
   "source": [
    "#Define the data frame\n",
    "df = pd.DataFrame(columns=['Team', 'GP', 'W', 'L', 'Win%', 'MIN', 'PTS', 'FGM', 'FGA', 'FG%', 'FG3M', 'FG3A', '3P%', 'FTM', 'FTA', 'FT%', 'OR', 'DR', 'REB', 'AST', 'TO', 'STL', 'BLK', 'BLKA', 'PF', 'PFD', '+/-', 'PTSA'])\n",
    "pts_allowed = [107.3, 108.1, 108.1, 114.3, 110.4, 109.2, 112.9, 106.3, 109.9, 111.3, 104.7, 114.8, 112.5, 110.2, 107.1, 110.6, 113.1, 111.1, 114.3, 117.7, 115.1, 112.8, 111.3, 118.9, 111.0, 114.7, 112.7, 111.5, 117.9, 115.0]"
   ]
  },
  {
   "cell_type": "code",
   "execution_count": 800,
   "metadata": {},
   "outputs": [],
   "source": [
    "#Initialize driver\n",
    "driver = webdriver.Chrome(executable_path=r'/Users/abhinavcherukuri/Documents/chromedriver')"
   ]
  },
  {
   "cell_type": "code",
   "execution_count": 801,
   "metadata": {},
   "outputs": [],
   "source": [
    "#Open website #1\n",
    "website1 = 'https://www.nba.com/stats/teams/traditional/?sort=W_PCT&dir=-1'\n",
    "driver.get(website1)"
   ]
  },
  {
   "cell_type": "code",
   "execution_count": 802,
   "metadata": {},
   "outputs": [],
   "source": [
    "#Find table for website #1\n",
    "driver.find_elements_by_xpath('/html/body/main/div/div/div[2]/div/div/div[1]/div[2]/div/div/label/select')\n",
    "table = driver.find_element_by_class_name('nba-stat-table')"
   ]
  },
  {
   "cell_type": "code",
   "execution_count": 803,
   "metadata": {},
   "outputs": [],
   "source": [
    "#Parse data for website #1\n",
    "team_ids = []\n",
    "team_names = []\n",
    "team_stats = []\n",
    "line_id = 0\n",
    "for line_id, lines in enumerate(table.text.split('\\n')):\n",
    "    if line_id == 0:\n",
    "        column_names = lines.split(' ')[1:]\n",
    "    else:\n",
    "        if line_id % 3 == 1:\n",
    "            team_ids.append(lines)\n",
    "        if line_id % 3 == 2:\n",
    "            team_names.append(lines)\n",
    "        if line_id % 3 == 0:\n",
    "            team_stats.append( [i for i in lines.split(' ')] )\n",
    "    line_id += 1"
   ]
  },
  {
   "cell_type": "code",
   "execution_count": 804,
   "metadata": {},
   "outputs": [],
   "source": [
    "#Add data to data frame\n",
    "for i in range(30):\n",
    "    df = df.append({'Team':team_names[i],\n",
    "               'GP':(team_stats[i][0]), \n",
    "               'W':(team_stats[i][1]), \n",
    "               'L':(team_stats[i][2]), \n",
    "               'Win%':(team_stats[i][3]),\n",
    "               'MIN':(team_stats[i][4]),\n",
    "               'PTS':(team_stats[i][5]),\n",
    "               'FGM':(team_stats[i][6]),\n",
    "               'FGA':(team_stats[i][7]),\n",
    "               'FG%':(team_stats[i][8]),\n",
    "               'FG3M':(team_stats[i][9]),\n",
    "               'FG3A':(team_stats[i][10]),\n",
    "               '3P%':(team_stats[i][11]),\n",
    "               'FTM':(team_stats[i][12]),\n",
    "               'FTA':(team_stats[i][13]),\n",
    "               'FT%':(team_stats[i][14]),\n",
    "               'OR':(team_stats[i][15]),\n",
    "               'DR':(team_stats[i][16]),\n",
    "               'REB':(team_stats[i][17]),\n",
    "               'AST':(team_stats[i][18]),\n",
    "               'TO':(team_stats[i][19]),\n",
    "               'STL':(team_stats[i][20]),\n",
    "               'BLK':(team_stats[i][21]),\n",
    "               'BLKA':(team_stats[i][22]),\n",
    "               'PF':(team_stats[i][23]), \n",
    "               'PFD':(team_stats[i][24]),\n",
    "               '+/-':(team_stats[i][25])},\n",
    "            ignore_index=True)"
   ]
  },
  {
   "cell_type": "code",
   "execution_count": 805,
   "metadata": {},
   "outputs": [],
   "source": [
    "#Convert to CSV file\n",
    "df['PTSA'] = pts_allowed\n",
    "df.to_csv('nba_stats_2020_2021.csv', index=False)"
   ]
  }
 ],
 "metadata": {
  "kernelspec": {
   "display_name": "Python 3",
   "language": "python",
   "name": "python3"
  },
  "language_info": {
   "codemirror_mode": {
    "name": "ipython",
    "version": 3
   },
   "file_extension": ".py",
   "mimetype": "text/x-python",
   "name": "python",
   "nbconvert_exporter": "python",
   "pygments_lexer": "ipython3",
   "version": "3.7.6"
  }
 },
 "nbformat": 4,
 "nbformat_minor": 4
}
