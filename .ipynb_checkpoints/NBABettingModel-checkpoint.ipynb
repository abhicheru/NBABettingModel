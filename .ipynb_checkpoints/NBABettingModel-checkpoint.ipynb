{
 "cells": [
  {
   "cell_type": "code",
   "execution_count": 18,
   "metadata": {},
   "outputs": [],
   "source": [
    "#Import packages\n",
    "import pandas as pd \n",
    "import random \n",
    "import numpy as np \n",
    "import matplotlib.pyplot as plt\n",
    "from sklearn.svm import SVC\n",
    "from sklearn.ensemble import BaggingClassifier\n",
    "from sklearn.ensemble import RandomForestClassifier\n",
    "from sklearn import svm\n",
    "from sklearn.model_selection import train_test_split\n",
    "from sklearn import preprocessing\n",
    "from sklearn import utils\n",
    "from sklearn import metrics"
   ]
  },
  {
   "cell_type": "code",
   "execution_count": 19,
   "metadata": {},
   "outputs": [],
   "source": [
    "#Import data\n",
    "team_data = pd.read_csv('nba_stats_2020_2021.csv')\n",
    "player_data = pd.read_csv('player_stats_2020_2021.csv')"
   ]
  },
  {
   "cell_type": "code",
   "execution_count": 20,
   "metadata": {},
   "outputs": [],
   "source": [
    "#Fit Model on Training Data\n",
    "lab_enc = preprocessing.LabelEncoder()\n",
    "box_scores = team_data[['PTS', 'FGM', 'FG3M', 'FGA', 'FTA', 'OR', 'DR', 'TO']]\n",
    "encoded = lab_enc.fit_transform(box_scores.values.ravel())\n",
    "drop_col = ['PTS']\n",
    "X = box_scores.drop(drop_col, 1)\n",
    "Y = team_data['PTS']\n",
    "y = Y.values\n",
    "for val in range(len(y)):\n",
    "    y[val] = round(y[val])\n",
    "X_train, X_test, Y_train, Y_test = train_test_split(X, y, train_size = 0.75)\n",
    "#Bagging Classifier\n",
    "bclf = BaggingClassifier(base_estimator=SVC(gamma='scale'), n_estimators=10, random_state=0)\n",
    "bclf.fit(X_train, Y_train.ravel())\n",
    "#Random Forest Classifier\n",
    "rfc = RandomForestClassifier(max_depth=8, random_state=0, n_estimators=300)\n",
    "rfc.fit(X_train, Y_train.ravel())\n",
    "#Update points scored with averaged predictions\n",
    "for index in range(len(team_data['PTS'])):\n",
    "    avg_total_score = (bclf.predict(X.values)[index] + rfc.predict(X.values)[index])/2\n",
    "    team_data['PTS'].values[index] = random.uniform(avg_total_score + 5, avg_total_score - 5)"
   ]
  },
  {
   "cell_type": "code",
   "execution_count": 21,
   "metadata": {},
   "outputs": [],
   "source": [
    "#Set home and away teams\n",
    "home = 'Philadelphia 76ers'\n",
    "away = 'Oklahoma City Thunder'\n",
    "homeI = 'PHI'\n",
    "awayI = 'OKC'"
   ]
  },
  {
   "cell_type": "code",
   "execution_count": 22,
   "metadata": {},
   "outputs": [],
   "source": [
    "#Set spread\n",
    "spread = 15"
   ]
  },
  {
   "cell_type": "code",
   "execution_count": 23,
   "metadata": {},
   "outputs": [],
   "source": [
    "#Set Over/Under total\n",
    "total = 219.5"
   ]
  },
  {
   "cell_type": "code",
   "execution_count": 24,
   "metadata": {},
   "outputs": [],
   "source": [
    "#Set injuries\n",
    "homeInjuries = ['Danny Green']\n",
    "awayInjuries = ['Luguentz Dort', 'Shai Gilgeous-Alexander', 'Mike Muscala']"
   ]
  },
  {
   "cell_type": "code",
   "execution_count": 25,
   "metadata": {},
   "outputs": [],
   "source": [
    "#Split data into home team data and away team data\n",
    "homedf = team_data[team_data.Team == home]\n",
    "awaydf = team_data[team_data.Team == away]\n",
    "\n",
    "homePER = player_data[player_data.Tm == homeI]\n",
    "awayPER = player_data[player_data.Tm == awayI]"
   ]
  },
  {
   "cell_type": "code",
   "execution_count": 26,
   "metadata": {},
   "outputs": [],
   "source": [
    "#Calculate the league average for total points scored\n",
    "avgTotal = team_data[\"PTS\"].mean() + team_data[\"PTSA\"].mean()"
   ]
  },
  {
   "cell_type": "code",
   "execution_count": 27,
   "metadata": {},
   "outputs": [],
   "source": [
    "#Get necessary stats for home team\n",
    "homeTeam = homedf.Team\n",
    "homeFGM = homedf.FGM\n",
    "homeFG3M = homedf.FG3M\n",
    "homeFGA = homedf.FGA\n",
    "homeFTA = homedf.FTA\n",
    "homeTOV = homedf.TO\n",
    "homeOR = homedf.OR\n",
    "homeDR = homedf.DR\n",
    "homePoints = homedf.PTS\n",
    "homePA = homedf.PTSA\n",
    "homeRoster = len(homePER)\n",
    "avg_homePER = homePER[\"PER\"].mean()\n",
    "sum_homePER = homePER[\"PER\"].sum()\n",
    "num_homeInjuries = len(homeInjuries)"
   ]
  },
  {
   "cell_type": "code",
   "execution_count": 28,
   "metadata": {},
   "outputs": [],
   "source": [
    "#Get necessary stats for away team\n",
    "awayTeam = awaydf.Team\n",
    "awayFGM = awaydf.FGM\n",
    "awayFG3M = awaydf.FG3M\n",
    "awayFGA = awaydf.FGA\n",
    "awayFTA = awaydf.FTA\n",
    "awayTOV = awaydf.TO\n",
    "awayOR = awaydf.OR\n",
    "awayDR = awaydf.DR\n",
    "awayPoints = awaydf.PTS\n",
    "awayPA = awaydf.PTSA\n",
    "awayRoster = len(awayPER)\n",
    "avg_awayPER = awayPER[\"PER\"].mean()\n",
    "sum_awayPER = awayPER[\"PER\"].sum()\n",
    "num_awayInjuries = len(awayInjuries)"
   ]
  },
  {
   "cell_type": "code",
   "execution_count": 29,
   "metadata": {},
   "outputs": [],
   "source": [
    "#Calculates home team potential based on injured players\n",
    "missing_homePER = 0\n",
    "for player in homeInjuries:\n",
    "    missing_homePER += homePER[homePER.Player == player].PER.item()\n",
    "adjusted_homePER = (sum_homePER - missing_homePER)/(homeRoster - num_homeInjuries)\n",
    "potential_homePER = (9.7 * (adjusted_homePER/avg_homePER) + 0.3 * (sum_homePER - missing_homePER)/sum_homePER)/10"
   ]
  },
  {
   "cell_type": "code",
   "execution_count": 30,
   "metadata": {},
   "outputs": [],
   "source": [
    "#Calculates away team potential based on injured players\n",
    "missing_awayPER = 0\n",
    "for player in awayInjuries:\n",
    "    missing_awayPER += awayPER[awayPER.Player == player].PER.item()\n",
    "adjusted_awayPER = (sum_awayPER - missing_awayPER)/(awayRoster - num_awayInjuries)\n",
    "potential_awayPER = (9.7 * (adjusted_awayPER/avg_awayPER) + 0.3 * (sum_awayPER - missing_awayPER)/sum_awayPER)/10"
   ]
  },
  {
   "cell_type": "code",
   "execution_count": 31,
   "metadata": {},
   "outputs": [],
   "source": [
    "#Predicts Spread\n",
    "def spreadSim():\n",
    "    #Calculates difference in effective field goal percentages\n",
    "    HEFG = potential_homePER.item() * ((homeFGM + 0.5 * homeFG3M)/homeFGA).item()\n",
    "    AEFG = potential_awayPER.item() * ((awayFGM + 0.5 * awayFG3M)/awayFGA).item()\n",
    "    efg = random.uniform(HEFG - 5, HEFG + 5) - random.uniform(AEFG - 5, AEFG + 5)\n",
    "    #Calculates difference in turnover percentages\n",
    "    HTOV = potential_homePER.item() * (homeFGA - homeOR + homeTOV + (0.4 * homeFTA)).item()\n",
    "    ATOV = potential_awayPER.item() * (awayFGA - awayOR + awayTOV + (0.4 * awayFTA)).item()\n",
    "    tov = random.uniform(HTOV - 3, HTOV + 3) - random.uniform(ATOV - 3, ATOV + 3)\n",
    "    #Calculates difference in offensive rebounding percentages\n",
    "    HORB = potential_homePER.item() * (homeOR.item()/(homeOR.item() + awayDR.item()))\n",
    "    HDRB = potential_homePER.item() * homeDR.item()/(awayOR.item() + homeDR.item())\n",
    "    orb = random.uniform(HORB - 3, HORB + 3) - random.uniform(HDRB - 3, HDRB + 3)\n",
    "    #Calculates difference in free throws attempted percentages\n",
    "    HFT = potential_homePER.item() * (homeFTA/homeFGA).item()\n",
    "    AFT = potential_awayPER.item() * (awayFTA/awayFGA).item()\n",
    "    ft = random.uniform(HFT - 3, HFT + 3) - random.uniform(AFT - 3, AFT + 3)\n",
    "    #Calculates Spread\n",
    "    sim = 2 * ((0.4 * efg) + (0.25 * tov) + (0.2 * orb) + (0.15 * ft))\n",
    "    rsim = round(sim*2)/2\n",
    "    if (rsim > spread):\n",
    "        return 1\n",
    "    elif (rsim < spread):\n",
    "        return -1\n",
    "    else:\n",
    "        return 0"
   ]
  },
  {
   "cell_type": "code",
   "execution_count": 32,
   "metadata": {},
   "outputs": [],
   "source": [
    "#Predicts total for Over/Under\n",
    "def scoreSim():\n",
    "    #Calculates total for home team games\n",
    "    gph1 = potential_homePER.item() * random.uniform(homePoints.item() - 3, homePoints.item() + 3)\n",
    "    gph2 = potential_homePER.item() * random.uniform(homePA.item() - 3, homePA.item() + 3)\n",
    "    gamePointsHome = (gph1 + gph2)\n",
    "    #Calculates total for away team games\n",
    "    gpa1 = potential_awayPER.item() * random.uniform(awayPoints.item() - 3, awayPoints.item() + 3)\n",
    "    gpa2 = potential_awayPER.item() * random.uniform(awayPA.item() - 3, awayPA.item() + 3)\n",
    "    gamePointsAway = (gpa1+gpa2)\n",
    "    #Calculates predicted total in this match-up\n",
    "    gameTotal = (gamePointsHome * gamePointsAway)/avgTotal\n",
    "    rgameTotal = round(2*gameTotal)/2\n",
    "    return rgameTotal"
   ]
  },
  {
   "cell_type": "code",
   "execution_count": 33,
   "metadata": {},
   "outputs": [],
   "source": [
    "def gamesSim(number_of_simulations):\n",
    "    hometeamcovers = 0\n",
    "    awayteamcovers = 0\n",
    "    pushcover = 0\n",
    "    averageSpread = 0\n",
    "    over = 0\n",
    "    under = 0\n",
    "    pushTotal = 0\n",
    "    averageTotal = 0\n",
    "    for i in range(number_of_simulations):\n",
    "        game = spreadSim()\n",
    "        averageSpread += game\n",
    "        if game > spread:\n",
    "            hometeamcovers += 1\n",
    "        elif game < spread:\n",
    "            awayteamcovers += 1\n",
    "        else:\n",
    "            pushcover += 1\n",
    "    for i in range(number_of_simulations):\n",
    "        score = scoreSim()\n",
    "        averageTotal += score\n",
    "        if score > total:\n",
    "            over += 1\n",
    "        elif score < total:\n",
    "            under += 1\n",
    "        else:\n",
    "            pushTotal += 1\n",
    "    print(homeTeam.item() + ' covers', (hometeamcovers/(hometeamcovers+awayteamcovers+pushcover)) * 100,'% of the simulations')\n",
    "    print(awayTeam.item() + ' covers', awayteamcovers/(hometeamcovers+awayteamcovers+pushcover) * 100,'% of the simulations')\n",
    "    print('The spread pushes', pushcover/(hometeamcovers+awayteamcovers+pushcover) * 100, '% of the simulations')\n",
    "    print('The average spread is', averageSpread/number_of_simulations)\n",
    "    print('The total is over', (over)/(over+under+pushTotal) * 100,'% of the simulations')\n",
    "    print('The total is under', (under)/(over+under+pushTotal) * 100,'% of the simulations')\n",
    "    print('The total pushes', pushTotal/(over+under+pushTotal) * 100, '% of the simulations')\n",
    "    print('The average total is', averageTotal/number_of_simulations)"
   ]
  },
  {
   "cell_type": "code",
   "execution_count": 34,
   "metadata": {},
   "outputs": [
    {
     "name": "stdout",
     "output_type": "stream",
     "text": [
      "Philadelphia 76ers covers 0.0 % of the simulations\n",
      "Oklahoma City Thunder covers 100.0 % of the simulations\n",
      "The spread pushes 0.0 % of the simulations\n",
      "The average spread is -1.0\n",
      "The total is over 87.76 % of the simulations\n",
      "The total is under 9.54 % of the simulations\n",
      "The total pushes 2.7 % of the simulations\n",
      "The average total is 223.8268\n"
     ]
    }
   ],
   "source": [
    "gamesSim(10000)"
   ]
  },
  {
   "cell_type": "code",
   "execution_count": null,
   "metadata": {},
   "outputs": [],
   "source": []
  }
 ],
 "metadata": {
  "kernelspec": {
   "display_name": "Python 3",
   "language": "python",
   "name": "python3"
  },
  "language_info": {
   "codemirror_mode": {
    "name": "ipython",
    "version": 3
   },
   "file_extension": ".py",
   "mimetype": "text/x-python",
   "name": "python",
   "nbconvert_exporter": "python",
   "pygments_lexer": "ipython3",
   "version": "3.7.6"
  }
 },
 "nbformat": 4,
 "nbformat_minor": 4
}
